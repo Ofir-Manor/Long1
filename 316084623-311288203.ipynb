{
  "cells": [
    {
      "cell_type": "markdown",
      "metadata": {
        "id": "view-in-github",
        "colab_type": "text"
      },
      "source": [
        "<a href=\"https://colab.research.google.com/github/Ofir-Manor/Long1/blob/main/316084623-311288203.ipynb\" target=\"_parent\"><img src=\"https://colab.research.google.com/assets/colab-badge.svg\" alt=\"Open In Colab\"/></a>"
      ]
    },
    {
      "cell_type": "code",
      "source": [
        "import pandas as pd\n",
        "import numpy as np\n",
        "import seaborn as sns\n",
        "from matplotlib.pyplot import matplotlib\n",
        "import pylab\n",
        "from sklearn.model_selection import train_test_split\n",
        "params = {'xtick.labelsize': 18, 'ytick.labelsize': 18, 'axes.titlesize' : 22, 'axes.labelsize' : 20, 'legend.fontsize': 18, 'legend.title_fontsize': 22, 'figure.titlesize': 24 }\n",
        "pylab.rcParams.update(params)"
      ],
      "metadata": {
        "id": "46iU-7qcWzdi"
      },
      "id": "46iU-7qcWzdi",
      "execution_count": 2,
      "outputs": []
    },
    {
      "cell_type": "markdown",
      "id": "6feb52fb-6fa7-4432-be03-35b560c48a62",
      "metadata": {
        "id": "6feb52fb-6fa7-4432-be03-35b560c48a62"
      },
      "source": [
        "Part 1: Data loading and First Look"
      ]
    },
    {
      "cell_type": "code",
      "execution_count": 3,
      "id": "585da4cc-9ac1-4b85-ac2f-14efc48588b1",
      "metadata": {
        "id": "585da4cc-9ac1-4b85-ac2f-14efc48588b1",
        "outputId": "c97214ff-9cf2-4e4d-8541-0f3a523c1326",
        "colab": {
          "base_uri": "https://localhost:8080/",
          "height": 345
        }
      },
      "outputs": [
        {
          "output_type": "error",
          "ename": "FileNotFoundError",
          "evalue": "ignored",
          "traceback": [
            "\u001b[0;31m---------------------------------------------------------------------------\u001b[0m",
            "\u001b[0;31mFileNotFoundError\u001b[0m                         Traceback (most recent call last)",
            "\u001b[0;32m<ipython-input-3-3c5a657b6e53>\u001b[0m in \u001b[0;36m<module>\u001b[0;34m\u001b[0m\n\u001b[0;32m----> 1\u001b[0;31m \u001b[0mvirus_data\u001b[0m \u001b[0;34m=\u001b[0m \u001b[0mpd\u001b[0m\u001b[0;34m.\u001b[0m\u001b[0mread_csv\u001b[0m\u001b[0;34m(\u001b[0m\u001b[0;34m\"virus_data.csv\"\u001b[0m\u001b[0;34m)\u001b[0m\u001b[0;34m\u001b[0m\u001b[0;34m\u001b[0m\u001b[0m\n\u001b[0m\u001b[1;32m      2\u001b[0m \u001b[0mvirus_df\u001b[0m \u001b[0;34m=\u001b[0m \u001b[0mpd\u001b[0m\u001b[0;34m.\u001b[0m\u001b[0mDataFrame\u001b[0m\u001b[0;34m(\u001b[0m\u001b[0mdata\u001b[0m\u001b[0;34m=\u001b[0m\u001b[0mvirus_data\u001b[0m\u001b[0;34m)\u001b[0m\u001b[0;34m\u001b[0m\u001b[0;34m\u001b[0m\u001b[0m\n\u001b[1;32m      3\u001b[0m \u001b[0mvirus_df\u001b[0m\u001b[0;34m.\u001b[0m\u001b[0mshape\u001b[0m\u001b[0;34m\u001b[0m\u001b[0;34m\u001b[0m\u001b[0m\n",
            "\u001b[0;32m/usr/local/lib/python3.7/dist-packages/pandas/util/_decorators.py\u001b[0m in \u001b[0;36mwrapper\u001b[0;34m(*args, **kwargs)\u001b[0m\n\u001b[1;32m    309\u001b[0m                     \u001b[0mstacklevel\u001b[0m\u001b[0;34m=\u001b[0m\u001b[0mstacklevel\u001b[0m\u001b[0;34m,\u001b[0m\u001b[0;34m\u001b[0m\u001b[0;34m\u001b[0m\u001b[0m\n\u001b[1;32m    310\u001b[0m                 )\n\u001b[0;32m--> 311\u001b[0;31m             \u001b[0;32mreturn\u001b[0m \u001b[0mfunc\u001b[0m\u001b[0;34m(\u001b[0m\u001b[0;34m*\u001b[0m\u001b[0margs\u001b[0m\u001b[0;34m,\u001b[0m \u001b[0;34m**\u001b[0m\u001b[0mkwargs\u001b[0m\u001b[0;34m)\u001b[0m\u001b[0;34m\u001b[0m\u001b[0;34m\u001b[0m\u001b[0m\n\u001b[0m\u001b[1;32m    312\u001b[0m \u001b[0;34m\u001b[0m\u001b[0m\n\u001b[1;32m    313\u001b[0m         \u001b[0;32mreturn\u001b[0m \u001b[0mwrapper\u001b[0m\u001b[0;34m\u001b[0m\u001b[0;34m\u001b[0m\u001b[0m\n",
            "\u001b[0;32m/usr/local/lib/python3.7/dist-packages/pandas/io/parsers/readers.py\u001b[0m in \u001b[0;36mread_csv\u001b[0;34m(filepath_or_buffer, sep, delimiter, header, names, index_col, usecols, squeeze, prefix, mangle_dupe_cols, dtype, engine, converters, true_values, false_values, skipinitialspace, skiprows, skipfooter, nrows, na_values, keep_default_na, na_filter, verbose, skip_blank_lines, parse_dates, infer_datetime_format, keep_date_col, date_parser, dayfirst, cache_dates, iterator, chunksize, compression, thousands, decimal, lineterminator, quotechar, quoting, doublequote, escapechar, comment, encoding, encoding_errors, dialect, error_bad_lines, warn_bad_lines, on_bad_lines, delim_whitespace, low_memory, memory_map, float_precision, storage_options)\u001b[0m\n\u001b[1;32m    584\u001b[0m     \u001b[0mkwds\u001b[0m\u001b[0;34m.\u001b[0m\u001b[0mupdate\u001b[0m\u001b[0;34m(\u001b[0m\u001b[0mkwds_defaults\u001b[0m\u001b[0;34m)\u001b[0m\u001b[0;34m\u001b[0m\u001b[0;34m\u001b[0m\u001b[0m\n\u001b[1;32m    585\u001b[0m \u001b[0;34m\u001b[0m\u001b[0m\n\u001b[0;32m--> 586\u001b[0;31m     \u001b[0;32mreturn\u001b[0m \u001b[0m_read\u001b[0m\u001b[0;34m(\u001b[0m\u001b[0mfilepath_or_buffer\u001b[0m\u001b[0;34m,\u001b[0m \u001b[0mkwds\u001b[0m\u001b[0;34m)\u001b[0m\u001b[0;34m\u001b[0m\u001b[0;34m\u001b[0m\u001b[0m\n\u001b[0m\u001b[1;32m    587\u001b[0m \u001b[0;34m\u001b[0m\u001b[0m\n\u001b[1;32m    588\u001b[0m \u001b[0;34m\u001b[0m\u001b[0m\n",
            "\u001b[0;32m/usr/local/lib/python3.7/dist-packages/pandas/io/parsers/readers.py\u001b[0m in \u001b[0;36m_read\u001b[0;34m(filepath_or_buffer, kwds)\u001b[0m\n\u001b[1;32m    480\u001b[0m \u001b[0;34m\u001b[0m\u001b[0m\n\u001b[1;32m    481\u001b[0m     \u001b[0;31m# Create the parser.\u001b[0m\u001b[0;34m\u001b[0m\u001b[0;34m\u001b[0m\u001b[0;34m\u001b[0m\u001b[0m\n\u001b[0;32m--> 482\u001b[0;31m     \u001b[0mparser\u001b[0m \u001b[0;34m=\u001b[0m \u001b[0mTextFileReader\u001b[0m\u001b[0;34m(\u001b[0m\u001b[0mfilepath_or_buffer\u001b[0m\u001b[0;34m,\u001b[0m \u001b[0;34m**\u001b[0m\u001b[0mkwds\u001b[0m\u001b[0;34m)\u001b[0m\u001b[0;34m\u001b[0m\u001b[0;34m\u001b[0m\u001b[0m\n\u001b[0m\u001b[1;32m    483\u001b[0m \u001b[0;34m\u001b[0m\u001b[0m\n\u001b[1;32m    484\u001b[0m     \u001b[0;32mif\u001b[0m \u001b[0mchunksize\u001b[0m \u001b[0;32mor\u001b[0m \u001b[0miterator\u001b[0m\u001b[0;34m:\u001b[0m\u001b[0;34m\u001b[0m\u001b[0;34m\u001b[0m\u001b[0m\n",
            "\u001b[0;32m/usr/local/lib/python3.7/dist-packages/pandas/io/parsers/readers.py\u001b[0m in \u001b[0;36m__init__\u001b[0;34m(self, f, engine, **kwds)\u001b[0m\n\u001b[1;32m    809\u001b[0m             \u001b[0mself\u001b[0m\u001b[0;34m.\u001b[0m\u001b[0moptions\u001b[0m\u001b[0;34m[\u001b[0m\u001b[0;34m\"has_index_names\"\u001b[0m\u001b[0;34m]\u001b[0m \u001b[0;34m=\u001b[0m \u001b[0mkwds\u001b[0m\u001b[0;34m[\u001b[0m\u001b[0;34m\"has_index_names\"\u001b[0m\u001b[0;34m]\u001b[0m\u001b[0;34m\u001b[0m\u001b[0;34m\u001b[0m\u001b[0m\n\u001b[1;32m    810\u001b[0m \u001b[0;34m\u001b[0m\u001b[0m\n\u001b[0;32m--> 811\u001b[0;31m         \u001b[0mself\u001b[0m\u001b[0;34m.\u001b[0m\u001b[0m_engine\u001b[0m \u001b[0;34m=\u001b[0m \u001b[0mself\u001b[0m\u001b[0;34m.\u001b[0m\u001b[0m_make_engine\u001b[0m\u001b[0;34m(\u001b[0m\u001b[0mself\u001b[0m\u001b[0;34m.\u001b[0m\u001b[0mengine\u001b[0m\u001b[0;34m)\u001b[0m\u001b[0;34m\u001b[0m\u001b[0;34m\u001b[0m\u001b[0m\n\u001b[0m\u001b[1;32m    812\u001b[0m \u001b[0;34m\u001b[0m\u001b[0m\n\u001b[1;32m    813\u001b[0m     \u001b[0;32mdef\u001b[0m \u001b[0mclose\u001b[0m\u001b[0;34m(\u001b[0m\u001b[0mself\u001b[0m\u001b[0;34m)\u001b[0m\u001b[0;34m:\u001b[0m\u001b[0;34m\u001b[0m\u001b[0;34m\u001b[0m\u001b[0m\n",
            "\u001b[0;32m/usr/local/lib/python3.7/dist-packages/pandas/io/parsers/readers.py\u001b[0m in \u001b[0;36m_make_engine\u001b[0;34m(self, engine)\u001b[0m\n\u001b[1;32m   1038\u001b[0m             )\n\u001b[1;32m   1039\u001b[0m         \u001b[0;31m# error: Too many arguments for \"ParserBase\"\u001b[0m\u001b[0;34m\u001b[0m\u001b[0;34m\u001b[0m\u001b[0;34m\u001b[0m\u001b[0m\n\u001b[0;32m-> 1040\u001b[0;31m         \u001b[0;32mreturn\u001b[0m \u001b[0mmapping\u001b[0m\u001b[0;34m[\u001b[0m\u001b[0mengine\u001b[0m\u001b[0;34m]\u001b[0m\u001b[0;34m(\u001b[0m\u001b[0mself\u001b[0m\u001b[0;34m.\u001b[0m\u001b[0mf\u001b[0m\u001b[0;34m,\u001b[0m \u001b[0;34m**\u001b[0m\u001b[0mself\u001b[0m\u001b[0;34m.\u001b[0m\u001b[0moptions\u001b[0m\u001b[0;34m)\u001b[0m  \u001b[0;31m# type: ignore[call-arg]\u001b[0m\u001b[0;34m\u001b[0m\u001b[0;34m\u001b[0m\u001b[0m\n\u001b[0m\u001b[1;32m   1041\u001b[0m \u001b[0;34m\u001b[0m\u001b[0m\n\u001b[1;32m   1042\u001b[0m     \u001b[0;32mdef\u001b[0m \u001b[0m_failover_to_python\u001b[0m\u001b[0;34m(\u001b[0m\u001b[0mself\u001b[0m\u001b[0;34m)\u001b[0m\u001b[0;34m:\u001b[0m\u001b[0;34m\u001b[0m\u001b[0;34m\u001b[0m\u001b[0m\n",
            "\u001b[0;32m/usr/local/lib/python3.7/dist-packages/pandas/io/parsers/c_parser_wrapper.py\u001b[0m in \u001b[0;36m__init__\u001b[0;34m(self, src, **kwds)\u001b[0m\n\u001b[1;32m     49\u001b[0m \u001b[0;34m\u001b[0m\u001b[0m\n\u001b[1;32m     50\u001b[0m         \u001b[0;31m# open handles\u001b[0m\u001b[0;34m\u001b[0m\u001b[0;34m\u001b[0m\u001b[0;34m\u001b[0m\u001b[0m\n\u001b[0;32m---> 51\u001b[0;31m         \u001b[0mself\u001b[0m\u001b[0;34m.\u001b[0m\u001b[0m_open_handles\u001b[0m\u001b[0;34m(\u001b[0m\u001b[0msrc\u001b[0m\u001b[0;34m,\u001b[0m \u001b[0mkwds\u001b[0m\u001b[0;34m)\u001b[0m\u001b[0;34m\u001b[0m\u001b[0;34m\u001b[0m\u001b[0m\n\u001b[0m\u001b[1;32m     52\u001b[0m         \u001b[0;32massert\u001b[0m \u001b[0mself\u001b[0m\u001b[0;34m.\u001b[0m\u001b[0mhandles\u001b[0m \u001b[0;32mis\u001b[0m \u001b[0;32mnot\u001b[0m \u001b[0;32mNone\u001b[0m\u001b[0;34m\u001b[0m\u001b[0;34m\u001b[0m\u001b[0m\n\u001b[1;32m     53\u001b[0m \u001b[0;34m\u001b[0m\u001b[0m\n",
            "\u001b[0;32m/usr/local/lib/python3.7/dist-packages/pandas/io/parsers/base_parser.py\u001b[0m in \u001b[0;36m_open_handles\u001b[0;34m(self, src, kwds)\u001b[0m\n\u001b[1;32m    227\u001b[0m             \u001b[0mmemory_map\u001b[0m\u001b[0;34m=\u001b[0m\u001b[0mkwds\u001b[0m\u001b[0;34m.\u001b[0m\u001b[0mget\u001b[0m\u001b[0;34m(\u001b[0m\u001b[0;34m\"memory_map\"\u001b[0m\u001b[0;34m,\u001b[0m \u001b[0;32mFalse\u001b[0m\u001b[0;34m)\u001b[0m\u001b[0;34m,\u001b[0m\u001b[0;34m\u001b[0m\u001b[0;34m\u001b[0m\u001b[0m\n\u001b[1;32m    228\u001b[0m             \u001b[0mstorage_options\u001b[0m\u001b[0;34m=\u001b[0m\u001b[0mkwds\u001b[0m\u001b[0;34m.\u001b[0m\u001b[0mget\u001b[0m\u001b[0;34m(\u001b[0m\u001b[0;34m\"storage_options\"\u001b[0m\u001b[0;34m,\u001b[0m \u001b[0;32mNone\u001b[0m\u001b[0;34m)\u001b[0m\u001b[0;34m,\u001b[0m\u001b[0;34m\u001b[0m\u001b[0;34m\u001b[0m\u001b[0m\n\u001b[0;32m--> 229\u001b[0;31m             \u001b[0merrors\u001b[0m\u001b[0;34m=\u001b[0m\u001b[0mkwds\u001b[0m\u001b[0;34m.\u001b[0m\u001b[0mget\u001b[0m\u001b[0;34m(\u001b[0m\u001b[0;34m\"encoding_errors\"\u001b[0m\u001b[0;34m,\u001b[0m \u001b[0;34m\"strict\"\u001b[0m\u001b[0;34m)\u001b[0m\u001b[0;34m,\u001b[0m\u001b[0;34m\u001b[0m\u001b[0;34m\u001b[0m\u001b[0m\n\u001b[0m\u001b[1;32m    230\u001b[0m         )\n\u001b[1;32m    231\u001b[0m \u001b[0;34m\u001b[0m\u001b[0m\n",
            "\u001b[0;32m/usr/local/lib/python3.7/dist-packages/pandas/io/common.py\u001b[0m in \u001b[0;36mget_handle\u001b[0;34m(path_or_buf, mode, encoding, compression, memory_map, is_text, errors, storage_options)\u001b[0m\n\u001b[1;32m    705\u001b[0m                 \u001b[0mencoding\u001b[0m\u001b[0;34m=\u001b[0m\u001b[0mioargs\u001b[0m\u001b[0;34m.\u001b[0m\u001b[0mencoding\u001b[0m\u001b[0;34m,\u001b[0m\u001b[0;34m\u001b[0m\u001b[0;34m\u001b[0m\u001b[0m\n\u001b[1;32m    706\u001b[0m                 \u001b[0merrors\u001b[0m\u001b[0;34m=\u001b[0m\u001b[0merrors\u001b[0m\u001b[0;34m,\u001b[0m\u001b[0;34m\u001b[0m\u001b[0;34m\u001b[0m\u001b[0m\n\u001b[0;32m--> 707\u001b[0;31m                 \u001b[0mnewline\u001b[0m\u001b[0;34m=\u001b[0m\u001b[0;34m\"\"\u001b[0m\u001b[0;34m,\u001b[0m\u001b[0;34m\u001b[0m\u001b[0;34m\u001b[0m\u001b[0m\n\u001b[0m\u001b[1;32m    708\u001b[0m             )\n\u001b[1;32m    709\u001b[0m         \u001b[0;32melse\u001b[0m\u001b[0;34m:\u001b[0m\u001b[0;34m\u001b[0m\u001b[0;34m\u001b[0m\u001b[0m\n",
            "\u001b[0;31mFileNotFoundError\u001b[0m: [Errno 2] No such file or directory: 'virus_data.csv'"
          ]
        }
      ],
      "source": [
        "virus_data = pd.read_csv(\"virus_data.csv\")\n",
        "virus_df = pd.DataFrame(data=virus_data)\n",
        "virus_df.shape"
      ]
    },
    {
      "cell_type": "code",
      "execution_count": null,
      "id": "61c60c8a-006e-4db8-8e1d-aded8da4a464",
      "metadata": {
        "id": "61c60c8a-006e-4db8-8e1d-aded8da4a464"
      },
      "outputs": [],
      "source": [
        "virus_df['num_of_siblings'].value_counts()"
      ]
    },
    {
      "cell_type": "markdown",
      "id": "6b5f5b60-f49d-4eb5-8250-a686ac59a263",
      "metadata": {
        "id": "6b5f5b60-f49d-4eb5-8250-a686ac59a263"
      },
      "source": [
        "Partitioning the Data"
      ]
    },
    {
      "cell_type": "code",
      "execution_count": null,
      "id": "b56173db",
      "metadata": {
        "id": "b56173db"
      },
      "outputs": [],
      "source": [
        "rand_seed = 23 + 03\n",
        "train, test = train_test_split(virus_df, test_size=0.2, random_state=rand_seed)"
      ]
    },
    {
      "cell_type": "markdown",
      "id": "c41c904a-36dd-41da-8a91-1cf2d54c98ed",
      "metadata": {
        "id": "c41c904a-36dd-41da-8a91-1cf2d54c98ed"
      },
      "source": [
        "Part2: Warming up with k-Nearest Neighbors"
      ]
    },
    {
      "cell_type": "markdown",
      "id": "17768c9b-6a58-4b15-99e7-832d76fd076b",
      "metadata": {
        "id": "17768c9b-6a58-4b15-99e7-832d76fd076b"
      },
      "source": [
        "Basic Data Exploration"
      ]
    },
    {
      "cell_type": "code",
      "execution_count": null,
      "id": "9f728da3",
      "metadata": {
        "id": "9f728da3"
      },
      "outputs": [],
      "source": [
        "train.corr().spread.PCR_01"
      ]
    },
    {
      "cell_type": "code",
      "execution_count": null,
      "id": "5c8af9d3",
      "metadata": {
        "id": "5c8af9d3"
      },
      "outputs": [],
      "source": [
        "train.corr().spread.PCR_02"
      ]
    },
    {
      "cell_type": "code",
      "execution_count": null,
      "id": "4f364b76",
      "metadata": {
        "id": "4f364b76"
      },
      "outputs": [],
      "source": [
        "train.corr().spread.PCR_09"
      ]
    },
    {
      "cell_type": "code",
      "execution_count": null,
      "id": "ed6c85c1",
      "metadata": {
        "id": "ed6c85c1"
      },
      "outputs": [],
      "source": [
        "g=sns.pairplot(data=train, hue=\"spread\", palette=\"bright\", vars=[\"PCR_01\", \"PCR_02\", \"PCR_09\"], plot_kws={\"s\": 12})\n",
        "g.fig.suptitle(\"Virus Data PCR (1,2 and 9)\", y=1.04)\n",
        "for ax in np.ravel(g.axes):\n",
        " ax.grid(alpha=0.5)\n",
        "g.fig.set_size_inches(12,8)"
      ]
    },
    {
      "cell_type": "markdown",
      "id": "7d2afee9-bfa3-48e0-9804-75c0cfa4546d",
      "metadata": {
        "id": "7d2afee9-bfa3-48e0-9804-75c0cfa4546d"
      },
      "source": [
        "k-NN Implementation"
      ]
    },
    {
      "cell_type": "code",
      "execution_count": null,
      "id": "16c0f90a-b1ff-444c-88e6-d150c07c2343",
      "metadata": {
        "id": "16c0f90a-b1ff-444c-88e6-d150c07c2343"
      },
      "outputs": [],
      "source": [
        "from sklearn.base import BaseEstimator,ClassifierMixin\n",
        "import scipy"
      ]
    },
    {
      "cell_type": "code",
      "execution_count": null,
      "id": "dd597775-7d2d-4cc5-8343-26300e539968",
      "metadata": {
        "id": "dd597775-7d2d-4cc5-8343-26300e539968"
      },
      "outputs": [],
      "source": [
        "class kNN(BaseEstimator, ClassifierMixin):\n",
        "    def __init__(self, n_neighbors:int = 3):\n",
        "        self.n_neighbors = n_neighbors\n",
        "    def fit(self, X, y):\n",
        "        # TODO: complete\n",
        "        self.X = np.copy(X)\n",
        "        self.y = np.copy(y)\n",
        "        return self\n",
        "    def predict(self, X):\n",
        "        # Note: You can use self.n_neighbors here\n",
        "        predictions = None\n",
        "        # TODO: compute the predicted labels (+1 or -1)\n",
        "        dist_mat = scipy.spatial.distance.cdist(XA=X, XB=self.X)\n",
        "        sort_dist_idx = np.argpartition(a=dist_mat, kth=self.n_neighbors, axis=1)\n",
        "        pred_sum = np.sum(self.y[sort_dist_idx][:, 0:self.n_neighbors], axis=1)\n",
        "        predictions = np.where(pred_sum>0, 1, -1)\n",
        "        return predictions"
      ]
    },
    {
      "cell_type": "code",
      "execution_count": null,
      "id": "c8be9f0d-7c91-403a-9f50-40c92b1404a7",
      "metadata": {
        "id": "c8be9f0d-7c91-403a-9f50-40c92b1404a7"
      },
      "outputs": [],
      "source": [
        "temp_df=pd.DataFrame(data=train, columns=[\"PCR_01\", \"PCR_02\", \"spread\"])\n",
        "temp_train, temp_test = train_test_split(temp_df, test_size=0.2, random_state=rand_seed)\n",
        "temp_train_x = temp_train[[\"PCR_01\", \"PCR_02\"]]\n",
        "temp_train_y = temp_train[\"spread\"]\n",
        "temp_test_x = temp_test[[\"PCR_01\", \"PCR_02\"]]\n",
        "temp_test_y = temp_test[\"spread\"]\n",
        "model = kNN(n_neighbors=1)\n",
        "model.fit(X=temp_train_x, y=temp_train_y)"
      ]
    },
    {
      "cell_type": "code",
      "execution_count": null,
      "id": "113e2f4b-64fd-4112-b300-9210a6a47e3b",
      "metadata": {
        "id": "113e2f4b-64fd-4112-b300-9210a6a47e3b"
      },
      "outputs": [],
      "source": [
        "from visualize_clf import visualize_clf\n",
        "visualize_clf(clf=model, X=temp_train_x.to_numpy(), Y=temp_train_y, title=\"kNN Visualization\", xlabel=\"PCR_01\", ylabel=\"PCR_02\")"
      ]
    },
    {
      "cell_type": "code",
      "execution_count": null,
      "id": "8d1e49a4-74e0-430a-a7cb-ccda76903981",
      "metadata": {
        "id": "8d1e49a4-74e0-430a-a7cb-ccda76903981"
      },
      "outputs": [],
      "source": [
        "a = model.score(temp_train_x, temp_train_y)\n",
        "b = model.score(temp_text_x, temp_test_y)\n",
        "print(f\"The score on the training set is {a}\")\n",
        "print(f\"The score on the test set is {b}\")"
      ]
    },
    {
      "cell_type": "markdown",
      "id": "1e972c86-9a20-47c0-b79f-3ae632716c32",
      "metadata": {
        "id": "1e972c86-9a20-47c0-b79f-3ae632716c32"
      },
      "source": [
        "Data Normalization"
      ]
    },
    {
      "cell_type": "code",
      "execution_count": null,
      "id": "5c8bb93f-8f1b-4bae-b18d-a79bf156e7fd",
      "metadata": {
        "id": "5c8bb93f-8f1b-4bae-b18d-a79bf156e7fd"
      },
      "outputs": [],
      "source": [
        "from sklearn.preprocessing import MinMaxScaler, StandardScaler"
      ]
    },
    {
      "cell_type": "code",
      "execution_count": null,
      "id": "2651d03c-b333-497c-ab75-351a1d6abd27",
      "metadata": {
        "id": "2651d03c-b333-497c-ab75-351a1d6abd27"
      },
      "outputs": [],
      "source": [
        "min_max_scaler = MinMaxScaler(feature_range=(-1, 1))\n",
        "train_x_min_max = min_max_scaler.fit_transform(temp_train_x)\n",
        "test_x_min_max = min_max_scaler.fit_transform(temp_text_x)\n",
        "model.fit(X=x_data_min_max, y=temp_train_y)"
      ]
    },
    {
      "cell_type": "code",
      "execution_count": null,
      "id": "5b54f3cb-d3e8-492e-bdac-df9f85e56e40",
      "metadata": {
        "id": "5b54f3cb-d3e8-492e-bdac-df9f85e56e40"
      },
      "outputs": [],
      "source": [
        "visualize_clf(clf=model, X=x_data_min_max, Y=temp_train_y, title=\"kNN Visualization\", xlabel=\"PCR_01\", ylabel=\"PCR_02\")\n",
        "model.score(x_data_min_max, temp_train_y)\n",
        "model.score(text_x_min_max, temp_test_y)"
      ]
    },
    {
      "cell_type": "code",
      "execution_count": null,
      "id": "047c1656-b70e-430f-9057-1302d483f377",
      "metadata": {
        "id": "047c1656-b70e-430f-9057-1302d483f377"
      },
      "outputs": [],
      "source": [
        "std_scaler = StandardScaler()\n",
        "train_x_std = std_scaler.fit_transform(temp_train_x)\n",
        "test_x_std = std_scaler.fit_transform(temp_test_x)\n",
        "std_model = kNN(n_neighbors=7)\n",
        "std_model.fit(Xtrain_x_std, y=y_data)"
      ]
    },
    {
      "cell_type": "code",
      "execution_count": null,
      "id": "54f1c6ef-3c99-466c-8c69-bc55529e9f38",
      "metadata": {
        "id": "54f1c6ef-3c99-466c-8c69-bc55529e9f38"
      },
      "outputs": [],
      "source": [
        "visualize_clf(clf=std_model, X=train_x_std, Y=y_data, title=\"kNN Visualization\", xlabel=\"PCR_01\", ylabel=\"PCR_02\")\n",
        "model.score(train_x_std,temp_train_y)\n",
        "model.score(test_x_std, temp_test_y)"
      ]
    },
    {
      "cell_type": "code",
      "execution_count": null,
      "id": "2322deb4-e41d-41f1-a9b8-cf1627b85a11",
      "metadata": {
        "id": "2322deb4-e41d-41f1-a9b8-cf1627b85a11"
      },
      "outputs": [],
      "source": []
    }
  ],
  "metadata": {
    "kernelspec": {
      "display_name": "Python 3 (ipykernel)",
      "language": "python",
      "name": "python3"
    },
    "language_info": {
      "codemirror_mode": {
        "name": "ipython",
        "version": 3
      },
      "file_extension": ".py",
      "mimetype": "text/x-python",
      "name": "python",
      "nbconvert_exporter": "python",
      "pygments_lexer": "ipython3",
      "version": "3.10.6"
    },
    "vscode": {
      "interpreter": {
        "hash": "c632987c319dc19fff7430d4740b60618fc108be3e79c47f62612219b20ec7cc"
      }
    },
    "colab": {
      "provenance": [],
      "include_colab_link": true
    }
  },
  "nbformat": 4,
  "nbformat_minor": 5
}