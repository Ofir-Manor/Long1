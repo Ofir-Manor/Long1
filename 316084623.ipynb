{
 "cells": [
  {
   "cell_type": "code",
   "execution_count": 1,
   "id": "cd05e82a-c955-42cc-a8ac-1141d27ed809",
   "metadata": {},
   "outputs": [],
   "source": [
    "import pandas as pd\n",
    "import numpy as np\n",
    "import seaborn as sns\n",
    "import matplotlib.pyplot\n",
    "from matplotlib import pylab\n",
    "from sklearn.model_selection import train_test_split\n",
    "params = {'xtick.labelsize': 18,\n",
    " 'ytick.labelsize': 18,\n",
    " 'axes.titlesize' : 22,\n",
    " 'axes.labelsize' : 20,\n",
    " 'legend.fontsize': 18,\n",
    " 'legend.title_fontsize': 22,\n",
    " 'figure.titlesize': 24\n",
    " }\n",
    "pylab.rcParams.update(params)"
   ]
  },
  {
   "cell_type": "code",
   "execution_count": 2,
   "id": "585da4cc-9ac1-4b85-ac2f-14efc48588b1",
   "metadata": {},
   "outputs": [
    {
     "data": {
      "text/plain": [
       "(1250, 26)"
      ]
     },
     "execution_count": 2,
     "metadata": {},
     "output_type": "execute_result"
    }
   ],
   "source": [
    "virus_data = pd.read_csv(\"virus_data.csv\")\n",
    "virus_df = pd.DataFrame(data = virus_data)\n",
    "virus_df.shape"
   ]
  },
  {
   "cell_type": "code",
   "execution_count": 3,
   "id": "61c60c8a-006e-4db8-8e1d-aded8da4a464",
   "metadata": {},
   "outputs": [
    {
     "data": {
      "text/plain": [
       "1    399\n",
       "2    317\n",
       "0    271\n",
       "3    161\n",
       "4     62\n",
       "5     31\n",
       "6      6\n",
       "7      2\n",
       "8      1\n",
       "Name: num_of_siblings, dtype: int64"
      ]
     },
     "execution_count": 3,
     "metadata": {},
     "output_type": "execute_result"
    }
   ],
   "source": [
    "virus_df['num_of_siblings'].value_counts()"
   ]
  },
  {
   "cell_type": "code",
   "execution_count": 4,
   "id": "b56173db",
   "metadata": {},
   "outputs": [],
   "source": [
    "rand_seed = 23 # + parter last 2 digins of id\n",
    "train, test = train_test_split(virus_df, test_size = 0.2, random_state = rand_seed)"
   ]
  },
  {
   "cell_type": "code",
   "execution_count": 5,
   "id": "9f728da3",
   "metadata": {},
   "outputs": [
    {
     "data": {
      "text/plain": [
       "0.10095819141067508"
      ]
     },
     "execution_count": 5,
     "metadata": {},
     "output_type": "execute_result"
    }
   ],
   "source": [
    "train.corr().spread.PCR_01"
   ]
  },
  {
   "cell_type": "code",
   "execution_count": 6,
   "id": "5c8af9d3",
   "metadata": {},
   "outputs": [
    {
     "data": {
      "text/plain": [
       "0.5123103409911332"
      ]
     },
     "execution_count": 6,
     "metadata": {},
     "output_type": "execute_result"
    }
   ],
   "source": [
    "train.corr().spread.PCR_02"
   ]
  },
  {
   "cell_type": "code",
   "execution_count": 7,
   "id": "4f364b76",
   "metadata": {},
   "outputs": [
    {
     "data": {
      "text/plain": [
       "-0.02078913882635519"
      ]
     },
     "execution_count": 7,
     "metadata": {},
     "output_type": "execute_result"
    }
   ],
   "source": [
    "train.corr().spread.PCR_09"
   ]
  },
  {
   "cell_type": "code",
   "execution_count": null,
   "id": "ed6c85c1",
   "metadata": {},
   "outputs": [],
   "source": [
    "g=sns.pairplot(TODO, plot_kws={\"s\": 12})\n",
    "g.fig.suptitle(\"TODO\", y=1.04)\n",
    "for ax in np.ravel(g.axes):\n",
    " ax.grid(alpha=0.5)\n",
    "g.fig.set_size_inches(12,8)"
   ]
  }
 ],
 "metadata": {
  "kernelspec": {
   "display_name": "Python 3 (ipykernel)",
   "language": "python",
   "name": "python3"
  },
  "language_info": {
   "codemirror_mode": {
    "name": "ipython",
    "version": 3
   },
   "file_extension": ".py",
   "mimetype": "text/x-python",
   "name": "python",
   "nbconvert_exporter": "python",
   "pygments_lexer": "ipython3",
   "version": "3.10.6"
  },
  "vscode": {
   "interpreter": {
    "hash": "c632987c319dc19fff7430d4740b60618fc108be3e79c47f62612219b20ec7cc"
   }
  }
 },
 "nbformat": 4,
 "nbformat_minor": 5
}
